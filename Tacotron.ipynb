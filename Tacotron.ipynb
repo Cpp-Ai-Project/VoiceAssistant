{
  "nbformat": 4,
  "nbformat_minor": 0,
  "metadata": {
    "colab": {
      "name": "Tacotron.ipynb",
      "version": "0.3.2",
      "provenance": []
    },
    "kernelspec": {
      "name": "python3",
      "display_name": "Python 3"
    }
  },
  "cells": [
    {
      "metadata": {
        "id": "u9aAZaJvH4HI",
        "colab_type": "text"
      },
      "cell_type": "markdown",
      "source": [
        "<h1>Tacotron with TensorFlow</h1>\n",
        "Possible datasets (from Jira):\n",
        "\n",
        "<a href=\"http://www.openslr.org/12/\">open slr</a> - The data used\n",
        "\n",
        "<a href=\"https://medium.com/@klintcho/creating-an-open-speech-recognition-dataset-for-almost-any-language-c532fb2bc0cf\">audiobooks</a>\n",
        "\n",
        "<a href=\"https://datashare.is.ed.ac.uk/handle/10283/2651\">datashare</a>\n",
        "\n",
        "<a href=\"https://voice.mozilla.org/en/data \">Mozilla voice</a> - just realized this is 12gb\n",
        "\n",
        "<a href=\"https://ai.googleblog.com/2017/12/tacotron-2-generating-human-like-speech.html\">link</a> to actual Tacotron2 thing by Google\n",
        "\n",
        "<a href=\"https://github.com/r9y9/wavenet_vocoder\">link</a> to wavenet vocoder"
      ]
    },
    {
      "metadata": {
        "id": "rRPmkOvmET-f",
        "colab_type": "code",
        "colab": {}
      },
      "cell_type": "code",
      "source": [
        "!apt install libsndfile1\n",
        "!pip install soundfile"
      ],
      "execution_count": 0,
      "outputs": []
    },
    {
      "metadata": {
        "id": "ENV3H84TFtg9",
        "colab_type": "text"
      },
      "cell_type": "markdown",
      "source": [
        "Run above in case the soundfile import doesn't work"
      ]
    },
    {
      "metadata": {
        "id": "aeSY1QaYG_Hf",
        "colab_type": "code",
        "colab": {}
      },
      "cell_type": "code",
      "source": [
        "#import statements\n",
        "import tensorflow as tf\n",
        "import numpy as np\n",
        "import soundfile as sf\n",
        "import scipy.signal as signal\n",
        "import matplotlib.pyplot as plt\n",
        "import os\n",
        "import librosa\n",
        "from sklearn.preprocessing import LabelEncoder\n",
        "\n",
        "from google.colab import drive"
      ],
      "execution_count": 0,
      "outputs": []
    },
    {
      "metadata": {
        "id": "z8QR65rcH2Pa",
        "colab_type": "text"
      },
      "cell_type": "markdown",
      "source": [
        "I'm not sure how you want to download the data from the datasets\n",
        "if you drop it into your google drive root directory, we can use code similar to the stuff below and access it. Also, do you have any prefrence on what data set to use?"
      ]
    },
    {
      "metadata": {
        "id": "BqeTVonINuH6",
        "colab_type": "code",
        "colab": {}
      },
      "cell_type": "code",
      "source": [
        "drive.mount('/content/gdrive/')"
      ],
      "execution_count": 0,
      "outputs": []
    },
    {
      "metadata": {
        "id": "q-FKhD4T8Nag",
        "colab_type": "text"
      },
      "cell_type": "markdown",
      "source": [
        "Data preprocessing, generating spectrograms from flac files (using the libslr data, 61-70968 files uplaoded into colab)."
      ]
    },
    {
      "metadata": {
        "id": "JavKGmk59aev",
        "colab_type": "code",
        "colab": {}
      },
      "cell_type": "code",
      "source": [
        "def getSpec(file, dirp, save=True):\n",
        "  data, samplerate = sf.read(file)\n",
        "  s = melspectrogram(data,samplerate)\n",
        "  if save:\n",
        "    plt.pcolormesh(s)\n",
        "    plt.savefig(dirp+file.split('.')[0]+'.png')\n",
        "  return s\n",
        "  #plt.pcolormesh(time,freq,spec) #uncomment to see the spectrogram\n",
        "  #is spectrogram wavenet compatible?"
      ],
      "execution_count": 0,
      "outputs": []
    },
    {
      "metadata": {
        "id": "hsN-e8r_JjJ5",
        "colab_type": "code",
        "colab": {}
      },
      "cell_type": "code",
      "source": [
        "def makeSpecs():\n",
        "  #rm -r spectrograms/ #run to delete the folder\n",
        "  auio_ext = \"flac\"\n",
        "  audio_files = [s for s in os.listdir() if len(s.split('.'))>1 and s.split('.')[1] == auio_ext]\n",
        "  os.makedirs('spectrograms', exist_ok=True)\n",
        "  return [getSpec(file,'spectrograms/') for file in audio_files]"
      ],
      "execution_count": 0,
      "outputs": []
    },
    {
      "metadata": {
        "id": "JD76UZCdL76D",
        "colab_type": "code",
        "colab": {
          "base_uri": "https://localhost:8080/",
          "height": 347
        },
        "outputId": "618b77f0-e022-43cf-9466-db0e353179ed"
      },
      "cell_type": "code",
      "source": [
        "output_spec = makeSpecs()"
      ],
      "execution_count": 158,
      "outputs": [
        {
          "output_type": "display_data",
          "data": {
            "image/png": "[encoded data removed]",
            "text/plain": [
              "<matplotlib.figure.Figure at 0x7f2de7039fd0>"
            ]
          },
          "metadata": {
            "tags": []
          }
        }
      ]
    },
    {
      "metadata": {
        "id": "sDhR5asOLXsz",
        "colab_type": "code",
        "colab": {}
      },
      "cell_type": "code",
      "source": [
        "transcript = open(\"61-70968.trans.txt\",'r')\n",
        "input_text = [s[14:] for s in transcript.read().strip().split('\\n')]"
      ],
      "execution_count": 0,
      "outputs": []
    },
    {
      "metadata": {
        "id": "2faiZ8BNax5h",
        "colab_type": "text"
      },
      "cell_type": "markdown",
      "source": [
        "Creates the text input array associated with each png, and trims the number id"
      ]
    },
    {
      "metadata": {
        "id": "vMiwnfALQxKB",
        "colab_type": "code",
        "colab": {
          "base_uri": "https://localhost:8080/",
          "height": 568
        },
        "outputId": "f9028c0c-c774-411f-c570-96d6f9c85a62"
      },
      "cell_type": "code",
      "source": [
        "getSpec(\"61-70968-0045.flac\",\"\")"
      ],
      "execution_count": 157,
      "outputs": [
        {
          "output_type": "execute_result",
          "data": {
            "text/plain": [
              "array([[9.42157549e-02, 5.10279942e-02, 3.05857292e-02, ...,\n",
              "        2.97752282e-02, 3.32919954e-02, 6.64239971e-02],\n",
              "       [2.25256377e-01, 3.11466151e-01, 3.48730247e-01, ...,\n",
              "        3.40292110e-01, 3.63837222e-01, 3.33525963e-01],\n",
              "       [4.09767939e-01, 4.06295238e-01, 4.28071143e-01, ...,\n",
              "        3.94537000e-01, 4.27594334e-01, 3.41218474e-01],\n",
              "       ...,\n",
              "       [3.35674966e-06, 5.65848098e-06, 6.06927857e-06, ...,\n",
              "        5.25640117e-06, 5.57153649e-06, 3.55566657e-06],\n",
              "       [3.87379064e-06, 5.93787920e-06, 4.47170654e-06, ...,\n",
              "        3.32399630e-06, 4.41597586e-06, 2.84882848e-06],\n",
              "       [1.82231047e-06, 2.39589387e-06, 3.19921286e-06, ...,\n",
              "        5.76976906e-06, 7.30103853e-06, 5.42571646e-06]])"
            ]
          },
          "metadata": {
            "tags": []
          },
          "execution_count": 157
        },
        {
          "output_type": "display_data",
          "data": {
            "image/png": "[encoded data removed]",
            "text/plain": [
              "<matplotlib.figure.Figure at 0x7f2de707a6d8>"
            ]
          },
          "metadata": {
            "tags": []
          }
        }
      ]
    },
    {
      "metadata": {
        "id": "KbHSALobcz7k",
        "colab_type": "code",
        "colab": {}
      },
      "cell_type": "code",
      "source": [
        "def melspectrogram(wav, samplerate):\n",
        "\treturn librosa.feature.melspectrogram(wav, samplerate)"
      ],
      "execution_count": 0,
      "outputs": []
    },
    {
      "metadata": {
        "id": "qF18Nd7ZqKDs",
        "colab_type": "code",
        "colab": {
          "base_uri": "https://localhost:8080/",
          "height": 34
        },
        "outputId": "d20c077d-ee16-490e-db16-d83fb174ca8d"
      },
      "cell_type": "code",
      "source": [
        "len(s[0])"
      ],
      "execution_count": 140,
      "outputs": [
        {
          "output_type": "execute_result",
          "data": {
            "text/plain": [
              "111"
            ]
          },
          "metadata": {
            "tags": []
          },
          "execution_count": 140
        }
      ]
    },
    {
      "metadata": {
        "id": "0AtVbbxG3nB6",
        "colab_type": "code",
        "colab": {
          "base_uri": "https://localhost:8080/",
          "height": 520
        },
        "outputId": "c1e496da-2e98-4e38-ac90-08133ef64fa7"
      },
      "cell_type": "code",
      "source": [
        "label_encoder = LabelEncoder()\n",
        "label_encoder.fit(' '.join(x for x in input_text).split(' '))#integer encode all words\n",
        "input_ints = [label_encoder.transform(x) for group in input_text for x in group ]"
      ],
      "execution_count": 195,
      "outputs": [
        {
          "output_type": "error",
          "ename": "ValueError",
          "evalue": "ignored",
          "traceback": [
            "\u001b[0;31m---------------------------------------------------------------------------\u001b[0m",
            "\u001b[0;31mValueError\u001b[0m                                Traceback (most recent call last)",
            "\u001b[0;32m<ipython-input-195-dbfb66b9bbcc>\u001b[0m in \u001b[0;36m<module>\u001b[0;34m()\u001b[0m\n\u001b[1;32m      1\u001b[0m \u001b[0mlabel_encoder\u001b[0m \u001b[0;34m=\u001b[0m \u001b[0mLabelEncoder\u001b[0m\u001b[0;34m(\u001b[0m\u001b[0;34m)\u001b[0m\u001b[0;34m\u001b[0m\u001b[0m\n\u001b[1;32m      2\u001b[0m \u001b[0mlabel_encoder\u001b[0m\u001b[0;34m.\u001b[0m\u001b[0mfit\u001b[0m\u001b[0;34m(\u001b[0m\u001b[0;34m' '\u001b[0m\u001b[0;34m.\u001b[0m\u001b[0mjoin\u001b[0m\u001b[0;34m(\u001b[0m\u001b[0mx\u001b[0m \u001b[0;32mfor\u001b[0m \u001b[0mx\u001b[0m \u001b[0;32min\u001b[0m \u001b[0minput_text\u001b[0m\u001b[0;34m)\u001b[0m\u001b[0;34m.\u001b[0m\u001b[0msplit\u001b[0m\u001b[0;34m(\u001b[0m\u001b[0;34m' '\u001b[0m\u001b[0;34m)\u001b[0m\u001b[0;34m)\u001b[0m\u001b[0;31m#integer encode all words\u001b[0m\u001b[0;34m\u001b[0m\u001b[0m\n\u001b[0;32m----> 3\u001b[0;31m \u001b[0minput_ints\u001b[0m \u001b[0;34m=\u001b[0m \u001b[0;34m[\u001b[0m\u001b[0mlabel_encoder\u001b[0m\u001b[0;34m.\u001b[0m\u001b[0mtransform\u001b[0m\u001b[0;34m(\u001b[0m\u001b[0mx\u001b[0m\u001b[0;34m)\u001b[0m \u001b[0;32mfor\u001b[0m \u001b[0mgroup\u001b[0m \u001b[0;32min\u001b[0m \u001b[0minput_text\u001b[0m \u001b[0;32mfor\u001b[0m \u001b[0mx\u001b[0m \u001b[0;32min\u001b[0m \u001b[0mgroup\u001b[0m \u001b[0;34m]\u001b[0m\u001b[0;34m\u001b[0m\u001b[0m\n\u001b[0m",
            "\u001b[0;32m<ipython-input-195-dbfb66b9bbcc>\u001b[0m in \u001b[0;36m<listcomp>\u001b[0;34m(.0)\u001b[0m\n\u001b[1;32m      1\u001b[0m \u001b[0mlabel_encoder\u001b[0m \u001b[0;34m=\u001b[0m \u001b[0mLabelEncoder\u001b[0m\u001b[0;34m(\u001b[0m\u001b[0;34m)\u001b[0m\u001b[0;34m\u001b[0m\u001b[0m\n\u001b[1;32m      2\u001b[0m \u001b[0mlabel_encoder\u001b[0m\u001b[0;34m.\u001b[0m\u001b[0mfit\u001b[0m\u001b[0;34m(\u001b[0m\u001b[0;34m' '\u001b[0m\u001b[0;34m.\u001b[0m\u001b[0mjoin\u001b[0m\u001b[0;34m(\u001b[0m\u001b[0mx\u001b[0m \u001b[0;32mfor\u001b[0m \u001b[0mx\u001b[0m \u001b[0;32min\u001b[0m \u001b[0minput_text\u001b[0m\u001b[0;34m)\u001b[0m\u001b[0;34m.\u001b[0m\u001b[0msplit\u001b[0m\u001b[0;34m(\u001b[0m\u001b[0;34m' '\u001b[0m\u001b[0;34m)\u001b[0m\u001b[0;34m)\u001b[0m\u001b[0;31m#integer encode all words\u001b[0m\u001b[0;34m\u001b[0m\u001b[0m\n\u001b[0;32m----> 3\u001b[0;31m \u001b[0minput_ints\u001b[0m \u001b[0;34m=\u001b[0m \u001b[0;34m[\u001b[0m\u001b[0mlabel_encoder\u001b[0m\u001b[0;34m.\u001b[0m\u001b[0mtransform\u001b[0m\u001b[0;34m(\u001b[0m\u001b[0mx\u001b[0m\u001b[0;34m)\u001b[0m \u001b[0;32mfor\u001b[0m \u001b[0mgroup\u001b[0m \u001b[0;32min\u001b[0m \u001b[0minput_text\u001b[0m \u001b[0;32mfor\u001b[0m \u001b[0mx\u001b[0m \u001b[0;32min\u001b[0m \u001b[0mgroup\u001b[0m \u001b[0;34m]\u001b[0m\u001b[0;34m\u001b[0m\u001b[0m\n\u001b[0m",
            "\u001b[0;32m/usr/local/lib/python3.6/dist-packages/sklearn/preprocessing/label.py\u001b[0m in \u001b[0;36mtransform\u001b[0;34m(self, y)\u001b[0m\n\u001b[1;32m    126\u001b[0m         \"\"\"\n\u001b[1;32m    127\u001b[0m         \u001b[0mcheck_is_fitted\u001b[0m\u001b[0;34m(\u001b[0m\u001b[0mself\u001b[0m\u001b[0;34m,\u001b[0m \u001b[0;34m'classes_'\u001b[0m\u001b[0;34m)\u001b[0m\u001b[0;34m\u001b[0m\u001b[0m\n\u001b[0;32m--> 128\u001b[0;31m         \u001b[0my\u001b[0m \u001b[0;34m=\u001b[0m \u001b[0mcolumn_or_1d\u001b[0m\u001b[0;34m(\u001b[0m\u001b[0my\u001b[0m\u001b[0;34m,\u001b[0m \u001b[0mwarn\u001b[0m\u001b[0;34m=\u001b[0m\u001b[0;32mTrue\u001b[0m\u001b[0;34m)\u001b[0m\u001b[0;34m\u001b[0m\u001b[0m\n\u001b[0m\u001b[1;32m    129\u001b[0m \u001b[0;34m\u001b[0m\u001b[0m\n\u001b[1;32m    130\u001b[0m         \u001b[0mclasses\u001b[0m \u001b[0;34m=\u001b[0m \u001b[0mnp\u001b[0m\u001b[0;34m.\u001b[0m\u001b[0munique\u001b[0m\u001b[0;34m(\u001b[0m\u001b[0my\u001b[0m\u001b[0;34m)\u001b[0m\u001b[0;34m\u001b[0m\u001b[0m\n",
            "\u001b[0;32m/usr/local/lib/python3.6/dist-packages/sklearn/utils/validation.py\u001b[0m in \u001b[0;36mcolumn_or_1d\u001b[0;34m(y, warn)\u001b[0m\n\u001b[1;32m    612\u001b[0m         \u001b[0;32mreturn\u001b[0m \u001b[0mnp\u001b[0m\u001b[0;34m.\u001b[0m\u001b[0mravel\u001b[0m\u001b[0;34m(\u001b[0m\u001b[0my\u001b[0m\u001b[0;34m)\u001b[0m\u001b[0;34m\u001b[0m\u001b[0m\n\u001b[1;32m    613\u001b[0m \u001b[0;34m\u001b[0m\u001b[0m\n\u001b[0;32m--> 614\u001b[0;31m     \u001b[0;32mraise\u001b[0m \u001b[0mValueError\u001b[0m\u001b[0;34m(\u001b[0m\u001b[0;34m\"bad input shape {0}\"\u001b[0m\u001b[0;34m.\u001b[0m\u001b[0mformat\u001b[0m\u001b[0;34m(\u001b[0m\u001b[0mshape\u001b[0m\u001b[0;34m)\u001b[0m\u001b[0;34m)\u001b[0m\u001b[0;34m\u001b[0m\u001b[0m\n\u001b[0m\u001b[1;32m    615\u001b[0m \u001b[0;34m\u001b[0m\u001b[0m\n\u001b[1;32m    616\u001b[0m \u001b[0;34m\u001b[0m\u001b[0m\n",
            "\u001b[0;31mValueError\u001b[0m: bad input shape ()"
          ]
        }
      ]
    },
    {
      "metadata": {
        "id": "p4CyKGBL_YCP",
        "colab_type": "text"
      },
      "cell_type": "markdown",
      "source": [
        "Stopped here because spectrograms are for sentances, and the inputs are sentances, however, if the text is broken up by word, they either loose their order (being fed in as one-hot encoded words), or as sentances in which case only inputed sentances are inputted. The actual paper uses characters as input, but i don't know how the spectrograms from sentances can be applied to that."
      ]
    },
    {
      "metadata": {
        "id": "6bGsSdzq_X8X",
        "colab_type": "text"
      },
      "cell_type": "markdown",
      "source": [
        "Below is possible code for the actual network components, though I am uncertain about their relations/usage. Taken from https://github.com/Rayhane-mamah/Tacotron-2/blob/master/tacotron/models/modules.py\n"
      ]
    },
    {
      "metadata": {
        "id": "i0kFgSAw6-gd",
        "colab_type": "code",
        "colab": {}
      },
      "cell_type": "code",
      "source": [
        "class EncoderRNN:\n",
        "\tdef __init__(self, is_training, size=256, zoneout=0.1, scope=None):\n",
        "\t\t\"\"\"\n",
        "\t\tArgs:\n",
        "\t\t\tis_training: Boolean, determines if the model is training or in inference to control zoneout\n",
        "\t\t\tsize: integer, the number of LSTM units for each direction\n",
        "\t\t\tzoneout: the zoneout factor\n",
        "\t\t\tscope: EncoderRNN scope.\n",
        "\t\t\"\"\"\n",
        "\t\tsuper(EncoderRNN, self).__init__()\n",
        "\t\tself.is_training = is_training\n",
        "\n",
        "\t\tself.size = size\n",
        "\t\tself.zoneout = zoneout\n",
        "\t\tself.scope = 'encoder_LSTM' if scope is None else scope\n",
        "\n",
        "\t\t#Create forward LSTM Cell\n",
        "\t\tself._fw_cell = ZoneoutLSTMCell(size, is_training,\n",
        "\t\t\tzoneout_factor_cell=zoneout,\n",
        "\t\t\tzoneout_factor_output=zoneout,\n",
        "\t\t\tname='encoder_fw_LSTM')\n",
        "\n",
        "\t\t#Create backward LSTM Cell\n",
        "\t\tself._bw_cell = ZoneoutLSTMCell(size, is_training,\n",
        "\t\t\tzoneout_factor_cell=zoneout,\n",
        "\t\t\tzoneout_factor_output=zoneout,\n",
        "\t\t\tname='encoder_bw_LSTM')\n",
        "\n",
        "\tdef __call__(self, inputs, input_lengths):\n",
        "\t\twith tf.variable_scope(self.scope):\n",
        "\t\t\toutputs, (fw_state, bw_state) = tf.nn.bidirectional_dynamic_rnn(\n",
        "\t\t\t\tself._fw_cell,\n",
        "\t\t\t\tself._bw_cell,\n",
        "\t\t\t\tinputs,\n",
        "\t\t\t\tsequence_length=input_lengths,\n",
        "\t\t\t\tdtype=tf.float32,\n",
        "\t\t\t\tswap_memory=True)\n",
        "\n",
        "\t\t\treturn tf.concat(outputs, axis=2) # Concat and return forward + backward outputs\n"
      ],
      "execution_count": 0,
      "outputs": []
    },
    {
      "metadata": {
        "id": "COgWXXGJCGW4",
        "colab_type": "code",
        "colab": {}
      },
      "cell_type": "code",
      "source": [
        "class EncoderConvolutions:\n",
        "\t\"\"\"Encoder convolutional layers used to find local dependencies in inputs characters.\n",
        "\t\"\"\"\n",
        "\tdef __init__(self, is_training, hparams, activation=tf.nn.relu, scope=None):\n",
        "\t\t\"\"\"\n",
        "\t\tArgs:\n",
        "\t\t\tis_training: Boolean, determines if the model is training or in inference to control dropout\n",
        "\t\t\tkernel_size: tuple or integer, The size of convolution kernels\n",
        "\t\t\tchannels: integer, number of convolutional kernels\n",
        "\t\t\tactivation: callable, postnet activation function for each convolutional layer\n",
        "\t\t\tscope: Postnet scope.\n",
        "\t\t\"\"\"\n",
        "\t\tsuper(EncoderConvolutions, self).__init__()\n",
        "\t\tself.is_training = is_training\n",
        "\n",
        "\t\tself.kernel_size = hparams.enc_conv_kernel_size\n",
        "\t\tself.channels = hparams.enc_conv_channels\n",
        "\t\tself.activation = activation\n",
        "\t\tself.scope = 'enc_conv_layers' if scope is None else scope\n",
        "\t\tself.drop_rate = hparams.tacotron_dropout_rate\n",
        "\t\tself.enc_conv_num_layers = hparams.enc_conv_num_layers\n",
        "\n",
        "\tdef __call__(self, inputs):\n",
        "\t\twith tf.variable_scope(self.scope):\n",
        "\t\t\tx = inputs\n",
        "\t\t\tfor i in range(self.enc_conv_num_layers):\n",
        "\t\t\t\tx = conv1d(x, self.kernel_size, self.channels, self.activation,\n",
        "\t\t\t\t\tself.is_training, self.drop_rate, 'conv_layer_{}_'.format(i + 1)+self.scope)\n",
        "\t\treturn x\n",
        "\n"
      ],
      "execution_count": 0,
      "outputs": []
    },
    {
      "metadata": {
        "id": "0SHgiSU4Chvh",
        "colab_type": "text"
      },
      "cell_type": "markdown",
      "source": [
        "TODO: a lot, still need to implement tf session \n",
        "notes from paper: input characters use 512-dimensional embedding, stack of 3 conv. layers with 512 filters and shape 5x1 (each filter spans 5 characters followed by batch normalization and ReLU activation). the output of conv. is passed to a single bi-directional LSTM with 512 units(256 in each direction) "
      ]
    },
    {
      "metadata": {
        "id": "AWw1QpKKJckT",
        "colab_type": "code",
        "colab": {}
      },
      "cell_type": "code",
      "source": [
        "'''From the tutorial at https://machinelearningmastery.com/encoder-decoder-attention-sequence-to-sequence-prediction-keras/\n",
        "'''\n",
        "import tensorflow as tf\n",
        "from keras import backend as K\n",
        "from keras import regularizers, constraints, initializers, activations\n",
        "from keras.layers.recurrent import Recurrent\n",
        "from keras.engine import InputSpec\n",
        "\n",
        "tfPrint = lambda d, T: tf.Print(input_=T, data=[T, tf.shape(T)], message=d)\n",
        "\n",
        "class AttentionDecoder(Recurrent):\n",
        "\n",
        "    def __init__(self, units, output_dim,\n",
        "                 activation='tanh',\n",
        "                 return_probabilities=False,\n",
        "                 name='AttentionDecoder',\n",
        "                 kernel_initializer='glorot_uniform',\n",
        "                 recurrent_initializer='orthogonal',\n",
        "                 bias_initializer='zeros',\n",
        "                 kernel_regularizer=None,\n",
        "                 bias_regularizer=None,\n",
        "                 activity_regularizer=None,\n",
        "                 kernel_constraint=None,\n",
        "                 bias_constraint=None,\n",
        "                 **kwargs):\n",
        "        \"\"\"\n",
        "        Implements an AttentionDecoder that takes in a sequence encoded by an\n",
        "        encoder and outputs the decoded states\n",
        "        :param units: dimension of the hidden state and the attention matrices\n",
        "        :param output_dim: the number of labels in the output space\n",
        "\n",
        "        references:\n",
        "            Bahdanau, Dzmitry, Kyunghyun Cho, and Yoshua Bengio.\n",
        "            \"Neural machine translation by jointly learning to align and translate.\"\n",
        "            arXiv preprint arXiv:1409.0473 (2014).\n",
        "        \"\"\"\n",
        "        self.units = units\n",
        "        self.output_dim = output_dim\n",
        "        self.return_probabilities = return_probabilities\n",
        "        self.activation = activations.get(activation)\n",
        "        self.kernel_initializer = initializers.get(kernel_initializer)\n",
        "        self.recurrent_initializer = initializers.get(recurrent_initializer)\n",
        "        self.bias_initializer = initializers.get(bias_initializer)\n",
        "\n",
        "        self.kernel_regularizer = regularizers.get(kernel_regularizer)\n",
        "        self.recurrent_regularizer = regularizers.get(kernel_regularizer)\n",
        "        self.bias_regularizer = regularizers.get(bias_regularizer)\n",
        "        self.activity_regularizer = regularizers.get(activity_regularizer)\n",
        "\n",
        "        self.kernel_constraint = constraints.get(kernel_constraint)\n",
        "        self.recurrent_constraint = constraints.get(kernel_constraint)\n",
        "        self.bias_constraint = constraints.get(bias_constraint)\n",
        "\n",
        "        super(AttentionDecoder, self).__init__(**kwargs)\n",
        "        self.name = name\n",
        "        self.return_sequences = True  # must return sequences\n",
        "\n",
        "    def build(self, input_shape):\n",
        "        \"\"\"\n",
        "          See Appendix 2 of Bahdanau 2014, arXiv:1409.0473\n",
        "          for model details that correspond to the matrices here.\n",
        "        \"\"\"\n",
        "\n",
        "        self.batch_size, self.timesteps, self.input_dim = input_shape\n",
        "\n",
        "        if self.stateful:\n",
        "            super(AttentionDecoder, self).reset_states()\n",
        "\n",
        "        self.states = [None, None]  # y, s\n",
        "\n",
        "        \"\"\"\n",
        "            Matrices for creating the context vector\n",
        "        \"\"\"\n",
        "\n",
        "        self.V_a = self.add_weight(shape=(self.units,),\n",
        "                                   name='V_a',\n",
        "                                   initializer=self.kernel_initializer,\n",
        "                                   regularizer=self.kernel_regularizer,\n",
        "                                   constraint=self.kernel_constraint)\n",
        "        self.W_a = self.add_weight(shape=(self.units, self.units),\n",
        "                                   name='W_a',\n",
        "                                   initializer=self.kernel_initializer,\n",
        "                                   regularizer=self.kernel_regularizer,\n",
        "                                   constraint=self.kernel_constraint)\n",
        "        self.U_a = self.add_weight(shape=(self.input_dim, self.units),\n",
        "                                   name='U_a',\n",
        "                                   initializer=self.kernel_initializer,\n",
        "                                   regularizer=self.kernel_regularizer,\n",
        "                                   constraint=self.kernel_constraint)\n",
        "        self.b_a = self.add_weight(shape=(self.units,),\n",
        "                                   name='b_a',\n",
        "                                   initializer=self.bias_initializer,\n",
        "                                   regularizer=self.bias_regularizer,\n",
        "                                   constraint=self.bias_constraint)\n",
        "        \"\"\"\n",
        "            Matrices for the r (reset) gate\n",
        "        \"\"\"\n",
        "        self.C_r = self.add_weight(shape=(self.input_dim, self.units),\n",
        "                                   name='C_r',\n",
        "                                   initializer=self.recurrent_initializer,\n",
        "                                   regularizer=self.recurrent_regularizer,\n",
        "                                   constraint=self.recurrent_constraint)\n",
        "        self.U_r = self.add_weight(shape=(self.units, self.units),\n",
        "                                   name='U_r',\n",
        "                                   initializer=self.recurrent_initializer,\n",
        "                                   regularizer=self.recurrent_regularizer,\n",
        "                                   constraint=self.recurrent_constraint)\n",
        "        self.W_r = self.add_weight(shape=(self.output_dim, self.units),\n",
        "                                   name='W_r',\n",
        "                                   initializer=self.recurrent_initializer,\n",
        "                                   regularizer=self.recurrent_regularizer,\n",
        "                                   constraint=self.recurrent_constraint)\n",
        "        self.b_r = self.add_weight(shape=(self.units, ),\n",
        "                                   name='b_r',\n",
        "                                   initializer=self.bias_initializer,\n",
        "                                   regularizer=self.bias_regularizer,\n",
        "                                   constraint=self.bias_constraint)\n",
        "\n",
        "        \"\"\"\n",
        "            Matrices for the z (update) gate\n",
        "        \"\"\"\n",
        "        self.C_z = self.add_weight(shape=(self.input_dim, self.units),\n",
        "                                   name='C_z',\n",
        "                                   initializer=self.recurrent_initializer,\n",
        "                                   regularizer=self.recurrent_regularizer,\n",
        "                                   constraint=self.recurrent_constraint)\n",
        "        self.U_z = self.add_weight(shape=(self.units, self.units),\n",
        "                                   name='U_z',\n",
        "                                   initializer=self.recurrent_initializer,\n",
        "                                   regularizer=self.recurrent_regularizer,\n",
        "                                   constraint=self.recurrent_constraint)\n",
        "        self.W_z = self.add_weight(shape=(self.output_dim, self.units),\n",
        "                                   name='W_z',\n",
        "                                   initializer=self.recurrent_initializer,\n",
        "                                   regularizer=self.recurrent_regularizer,\n",
        "                                   constraint=self.recurrent_constraint)\n",
        "        self.b_z = self.add_weight(shape=(self.units, ),\n",
        "                                   name='b_z',\n",
        "                                   initializer=self.bias_initializer,\n",
        "                                   regularizer=self.bias_regularizer,\n",
        "                                   constraint=self.bias_constraint)\n",
        "        \"\"\"\n",
        "            Matrices for the proposal\n",
        "        \"\"\"\n",
        "        self.C_p = self.add_weight(shape=(self.input_dim, self.units),\n",
        "                                   name='C_p',\n",
        "                                   initializer=self.recurrent_initializer,\n",
        "                                   regularizer=self.recurrent_regularizer,\n",
        "                                   constraint=self.recurrent_constraint)\n",
        "        self.U_p = self.add_weight(shape=(self.units, self.units),\n",
        "                                   name='U_p',\n",
        "                                   initializer=self.recurrent_initializer,\n",
        "                                   regularizer=self.recurrent_regularizer,\n",
        "                                   constraint=self.recurrent_constraint)\n",
        "        self.W_p = self.add_weight(shape=(self.output_dim, self.units),\n",
        "                                   name='W_p',\n",
        "                                   initializer=self.recurrent_initializer,\n",
        "                                   regularizer=self.recurrent_regularizer,\n",
        "                                   constraint=self.recurrent_constraint)\n",
        "        self.b_p = self.add_weight(shape=(self.units, ),\n",
        "                                   name='b_p',\n",
        "                                   initializer=self.bias_initializer,\n",
        "                                   regularizer=self.bias_regularizer,\n",
        "                                   constraint=self.bias_constraint)\n",
        "        \"\"\"\n",
        "            Matrices for making the final prediction vector\n",
        "        \"\"\"\n",
        "        self.C_o = self.add_weight(shape=(self.input_dim, self.output_dim),\n",
        "                                   name='C_o',\n",
        "                                   initializer=self.recurrent_initializer,\n",
        "                                   regularizer=self.recurrent_regularizer,\n",
        "                                   constraint=self.recurrent_constraint)\n",
        "        self.U_o = self.add_weight(shape=(self.units, self.output_dim),\n",
        "                                   name='U_o',\n",
        "                                   initializer=self.recurrent_initializer,\n",
        "                                   regularizer=self.recurrent_regularizer,\n",
        "                                   constraint=self.recurrent_constraint)\n",
        "        self.W_o = self.add_weight(shape=(self.output_dim, self.output_dim),\n",
        "                                   name='W_o',\n",
        "                                   initializer=self.recurrent_initializer,\n",
        "                                   regularizer=self.recurrent_regularizer,\n",
        "                                   constraint=self.recurrent_constraint)\n",
        "        self.b_o = self.add_weight(shape=(self.output_dim, ),\n",
        "                                   name='b_o',\n",
        "                                   initializer=self.bias_initializer,\n",
        "                                   regularizer=self.bias_regularizer,\n",
        "                                   constraint=self.bias_constraint)\n",
        "\n",
        "        # For creating the initial state:\n",
        "        self.W_s = self.add_weight(shape=(self.input_dim, self.units),\n",
        "                                   name='W_s',\n",
        "                                   initializer=self.recurrent_initializer,\n",
        "                                   regularizer=self.recurrent_regularizer,\n",
        "                                   constraint=self.recurrent_constraint)\n",
        "\n",
        "        self.input_spec = [\n",
        "            InputSpec(shape=(self.batch_size, self.timesteps, self.input_dim))]\n",
        "        self.built = True\n",
        "\n",
        "    def call(self, x):\n",
        "        # store the whole sequence so we can \"attend\" to it at each timestep\n",
        "        self.x_seq = x\n",
        "\n",
        "        # apply the a dense layer over the time dimension of the sequence\n",
        "        # do it here because it doesn't depend on any previous steps\n",
        "        # thefore we can save computation time:\n",
        "        self._uxpb = _time_distributed_dense(self.x_seq, self.U_a, b=self.b_a,\n",
        "                                             input_dim=self.input_dim,\n",
        "                                             timesteps=self.timesteps,\n",
        "                                             output_dim=self.units)\n",
        "\n",
        "        return super(AttentionDecoder, self).call(x)\n",
        "\n",
        "    def get_initial_state(self, inputs):\n",
        "        # apply the matrix on the first time step to get the initial s0.\n",
        "        s0 = activations.tanh(K.dot(inputs[:, 0], self.W_s))\n",
        "\n",
        "        # from keras.layers.recurrent to initialize a vector of (batchsize,\n",
        "        # output_dim)\n",
        "        y0 = K.zeros_like(inputs)  # (samples, timesteps, input_dims)\n",
        "        y0 = K.sum(y0, axis=(1, 2))  # (samples, )\n",
        "        y0 = K.expand_dims(y0)  # (samples, 1)\n",
        "        y0 = K.tile(y0, [1, self.output_dim])\n",
        "\n",
        "        return [y0, s0]\n",
        "\n",
        "    def step(self, x, states):\n",
        "\n",
        "        ytm, stm = states\n",
        "\n",
        "        # repeat the hidden state to the length of the sequence\n",
        "        _stm = K.repeat(stm, self.timesteps)\n",
        "\n",
        "        # now multiplty the weight matrix with the repeated hidden state\n",
        "        _Wxstm = K.dot(_stm, self.W_a)\n",
        "\n",
        "        # calculate the attention probabilities\n",
        "        # this relates how much other timesteps contributed to this one.\n",
        "        et = K.dot(activations.tanh(_Wxstm + self._uxpb),\n",
        "                   K.expand_dims(self.V_a))\n",
        "        at = K.exp(et)\n",
        "        at_sum = K.sum(at, axis=1)\n",
        "        at_sum_repeated = K.repeat(at_sum, self.timesteps)\n",
        "        at /= at_sum_repeated  # vector of size (batchsize, timesteps, 1)\n",
        "\n",
        "        # calculate the context vector\n",
        "        context = K.squeeze(K.batch_dot(at, self.x_seq, axes=1), axis=1)\n",
        "        # ~~~> calculate new hidden state\n",
        "        # first calculate the \"r\" gate:\n",
        "\n",
        "        rt = activations.sigmoid(\n",
        "            K.dot(ytm, self.W_r)\n",
        "            + K.dot(stm, self.U_r)\n",
        "            + K.dot(context, self.C_r)\n",
        "            + self.b_r)\n",
        "\n",
        "        # now calculate the \"z\" gate\n",
        "        zt = activations.sigmoid(\n",
        "            K.dot(ytm, self.W_z)\n",
        "            + K.dot(stm, self.U_z)\n",
        "            + K.dot(context, self.C_z)\n",
        "            + self.b_z)\n",
        "\n",
        "        # calculate the proposal hidden state:\n",
        "        s_tp = activations.tanh(\n",
        "            K.dot(ytm, self.W_p)\n",
        "            + K.dot((rt * stm), self.U_p)\n",
        "            + K.dot(context, self.C_p)\n",
        "            + self.b_p)\n",
        "\n",
        "        # new hidden state:\n",
        "        st = (1-zt)*stm + zt * s_tp\n",
        "\n",
        "        yt = activations.softmax(\n",
        "            K.dot(ytm, self.W_o)\n",
        "            + K.dot(stm, self.U_o)\n",
        "            + K.dot(context, self.C_o)\n",
        "            + self.b_o)\n",
        "\n",
        "        if self.return_probabilities:\n",
        "            return at, [yt, st]\n",
        "        else:\n",
        "            return yt, [yt, st]\n",
        "\n",
        "    def compute_output_shape(self, input_shape):\n",
        "        \"\"\"\n",
        "            For Keras internal compatability checking\n",
        "        \"\"\"\n",
        "        if self.return_probabilities:\n",
        "            return (None, self.timesteps, self.timesteps)\n",
        "        else:\n",
        "            return (None, self.timesteps, self.output_dim)\n",
        "\n",
        "    def get_config(self):\n",
        "        \"\"\"\n",
        "            For rebuilding models on load time.\n",
        "        \"\"\"\n",
        "        config = {\n",
        "            'output_dim': self.output_dim,\n",
        "            'units': self.units,\n",
        "            'return_probabilities': self.return_probabilities\n",
        "        }\n",
        "        base_config = super(AttentionDecoder, self).get_config()\n",
        "        return dict(list(base_config.items()) + list(config.items()))"
      ],
      "execution_count": 0,
      "outputs": []
    },
    {
      "metadata": {
        "id": "foc6wVZPAwtH",
        "colab_type": "text"
      },
      "cell_type": "markdown",
      "source": [
        "The below is a network thing that has been removed in recent versions of keras, so I found and copied the code. The newer version doesn't translate over as cleanly, so this seemed like the easier approach. from https://github.com/datalogue/keras-attention/issues/15"
      ]
    },
    {
      "metadata": {
        "id": "YJxgJNT7KN9U",
        "colab_type": "code",
        "colab": {}
      },
      "cell_type": "code",
      "source": [
        "def _time_distributed_dense(x, w, b=None, dropout=None,\n",
        "                        input_dim=None, output_dim=None,\n",
        "                        timesteps=None, training=None):\n",
        "  \"\"\"Apply `y . w + b` for every temporal slice y of x.\n",
        "  # Arguments\n",
        "      x: input tensor.\n",
        "      w: weight matrix.\n",
        "      b: optional bias vector.\n",
        "      dropout: wether to apply dropout (same dropout mask\n",
        "          for every temporal slice of the input).\n",
        "      input_dim: integer; optional dimensionality of the input.\n",
        "      output_dim: integer; optional dimensionality of the output.\n",
        "      timesteps: integer; optional number of timesteps.\n",
        "      training: training phase tensor or boolean.\n",
        "  # Returns\n",
        "      Output tensor.\n",
        "  \"\"\"\n",
        "  if not input_dim:\n",
        "      input_dim = K.shape(x)[2]\n",
        "  if not timesteps:\n",
        "      timesteps = K.shape(x)[1]\n",
        "  if not output_dim:\n",
        "      output_dim = K.shape(w)[1]\n",
        "\n",
        "  if dropout is not None and 0. < dropout < 1.:\n",
        "      # apply the same dropout pattern at every timestep\n",
        "      ones = K.ones_like(K.reshape(x[:, 0, :], (-1, input_dim)))\n",
        "      dropout_matrix = K.dropout(ones, dropout)\n",
        "      expanded_dropout_matrix = K.repeat(dropout_matrix, timesteps)\n",
        "      x = K.in_train_phase(x * expanded_dropout_matrix, x, training=training)\n",
        "\n",
        "  # collapse time dimension and batch dimension together\n",
        "  x = K.reshape(x, (-1, input_dim))\n",
        "  x = K.dot(x, w)\n",
        "  if b is not None:\n",
        "      x = K.bias_add(x, b)\n",
        "  # reshape to 3D tensor\n",
        "  if K.backend() == 'tensorflow':\n",
        "      x = K.reshape(x, K.stack([-1, timesteps, output_dim]))\n",
        "      x.set_shape([None, None, output_dim])\n",
        "  else:\n",
        "      x = K.reshape(x, (-1, timesteps, output_dim))\n",
        "  return x"
      ],
      "execution_count": 0,
      "outputs": []
    }
  ]
}